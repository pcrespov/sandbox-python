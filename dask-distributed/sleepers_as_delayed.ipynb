{
 "metadata": {
  "language_info": {
   "codemirror_mode": {
    "name": "ipython",
    "version": 3
   },
   "file_extension": ".py",
   "mimetype": "text/x-python",
   "name": "python",
   "nbconvert_exporter": "python",
   "pygments_lexer": "ipython3",
   "version": "3.8.5"
  },
  "orig_nbformat": 2,
  "kernelspec": {
   "name": "pythonjvsc74a57bd069d3269aec8b055ab48ee8886682dfad999030dc81ddb3c3242872e7931937f6",
   "display_name": "Python 3.8.5  ('.venv': venv)"
  },
  "metadata": {
   "interpreter": {
    "hash": "69d3269aec8b055ab48ee8886682dfad999030dc81ddb3c3242872e7931937f6"
   }
  }
 },
 "nbformat": 4,
 "nbformat_minor": 2,
 "cells": [
  {
   "cell_type": "code",
   "execution_count": null,
   "metadata": {},
   "outputs": [],
   "source": [
    "from dask.base import visualize, compute"
   ]
  },
  {
   "cell_type": "code",
   "execution_count": null,
   "metadata": {},
   "outputs": [],
   "source": [
    "import dask\n",
    "from typing import Dict, Any\n",
    "from copy import deepcopy\n",
    "import time\n",
    "\n",
    "def sleeper(input_1=None, input_2=2, input_3=False):\n",
    "    #\n",
    "    # run container and pass parameters\n",
    "    #\n",
    "    time.sleep(input_2)\n",
    "    outputs = {\"output_1\": None, \"output_2\": input_2}\n",
    "    return outputs\n",
    "\n"
   ]
  },
  {
   "cell_type": "code",
   "execution_count": null,
   "metadata": {},
   "outputs": [],
   "source": [
    "y = dask.delayed(sleeper)({\"input_2\": 1})\n"
   ]
  },
  {
   "cell_type": "code",
   "execution_count": null,
   "metadata": {},
   "outputs": [],
   "source": [
    "y.compute()"
   ]
  },
  {
   "cell_type": "code",
   "execution_count": null,
   "metadata": {},
   "outputs": [],
   "source": [
    "from dask.distributed import Client, progress\n",
    "client = Client()\n",
    "client"
   ]
  },
  {
   "cell_type": "code",
   "execution_count": null,
   "metadata": {},
   "outputs": [],
   "source": [
    "from dask.base import visualize\n",
    "\n",
    "outs = []\n",
    "out98 = dask.delayed(sleeper)(input_2=2)\n",
    "oute9 = dask.delayed(sleeper)(input_2=2)\n",
    "\n",
    "outc7 = dask.delayed(sleeper)(input_1=out98[\"output_1\"], input_2=out98[\"output_2\"])\n",
    "out53 = dask.delayed(sleeper)(input_1=out98[\"output_1\"], input_2=out98[\"output_2\"])\n",
    "out40 = dask.delayed(sleeper)(input_1=out98[\"output_1\"], input_2=out98[\"output_2\"])\n",
    "out2d = dask.delayed(sleeper)(input_1=out98[\"output_1\"], input_2=out98[\"output_2\"])\n",
    "\n",
    "outaf = dask.delayed(sleeper)(input_1=oute9[\"output_1\"], input_2=oute9[\"output_2\"])\n",
    "\n",
    "\n",
    "outs = [out98, oute9, outc7, out53, out40, out2d, outaf]\n",
    "visualize(outs, rankdir='LR')\n",
    "\n",
    "\n"
   ]
  },
  {
   "cell_type": "code",
   "execution_count": null,
   "metadata": {},
   "outputs": [],
   "source": [
    "compute(outs)"
   ]
  },
  {
   "cell_type": "code",
   "execution_count": null,
   "metadata": {},
   "outputs": [],
   "source": [
    "import json\n",
    "\n",
    "with open(\"dask-distributed/project.json\") as fp:\n",
    "    project = json.load(fp)\n",
    "\n",
    "workbench = project[\"workbench\"]\n"
   ]
  },
  {
   "cell_type": "code",
   "execution_count": null,
   "metadata": {},
   "outputs": [],
   "source": [
    "nouts = {}\n",
    "def get_val(v):\n",
    "    if isinstance(v, dict):\n",
    "        return nouts[v[\"nodeUuid\"]][v[\"output\"]]\n",
    "    return v\n",
    "\n",
    "\n",
    "for nid, node in workbench.items():\n",
    "    nins = {name: get_val(value) for name, value in node[\"inputs\"].items()}\n",
    "    nouts[nid] = dask.delayed(sleeper)(**nins)\n",
    "\n"
   ]
  },
  {
   "cell_type": "code",
   "execution_count": null,
   "metadata": {},
   "outputs": [],
   "source": [
    "visualize( list(nouts.values()), rankdir='LR', collapse_outputs=False, optimize_graph=True, verbose=True)"
   ]
  },
  {
   "cell_type": "code",
   "execution_count": null,
   "metadata": {},
   "outputs": [],
   "source": [
    "\n",
    "compute(list(nouts.values()))"
   ]
  },
  {
   "cell_type": "code",
   "execution_count": null,
   "metadata": {},
   "outputs": [],
   "source": [
    "client.close()"
   ]
  },
  {
   "cell_type": "code",
   "execution_count": null,
   "metadata": {},
   "outputs": [],
   "source": []
  }
 ]
}