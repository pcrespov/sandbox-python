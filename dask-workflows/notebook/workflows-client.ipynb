{
 "cells": [
  {
   "cell_type": "code",
   "execution_count": 1,
   "id": "split-silly",
   "metadata": {},
   "outputs": [],
   "source": [
    "from dask.distributed import Client"
   ]
  },
  {
   "cell_type": "code",
   "execution_count": 2,
   "id": "systematic-thailand",
   "metadata": {},
   "outputs": [
    {
     "name": "stderr",
     "output_type": "stream",
     "text": [
      "/opt/conda/lib/python3.8/site-packages/distributed/client.py:1146: VersionMismatchWarning: Mismatched versions found\n",
      "\n",
      "+---------+---------------+---------------+---------------+\n",
      "| Package | client        | scheduler     | workers       |\n",
      "+---------+---------------+---------------+---------------+\n",
      "| python  | 3.8.6.final.0 | 3.8.0.final.0 | 3.8.0.final.0 |\n",
      "+---------+---------------+---------------+---------------+\n",
      "  warnings.warn(version_module.VersionMismatchWarning(msg[0][\"warning\"]))\n"
     ]
    },
    {
     "data": {
      "text/html": [
       "<table style=\"border: 2px solid white;\">\n",
       "<tr>\n",
       "<td style=\"vertical-align: top; border: 0px solid white\">\n",
       "<h3 style=\"text-align: left;\">Client</h3>\n",
       "<ul style=\"text-align: left; list-style: none; margin: 0; padding: 0;\">\n",
       "  <li><b>Scheduler: </b>tcp://scheduler:8786</li>\n",
       "  <li><b>Dashboard: </b><a href='http://scheduler:8787/status' target='_blank'>http://scheduler:8787/status</a></li>\n",
       "</ul>\n",
       "</td>\n",
       "<td style=\"vertical-align: top; border: 0px solid white\">\n",
       "<h3 style=\"text-align: left;\">Cluster</h3>\n",
       "<ul style=\"text-align: left; list-style:none; margin: 0; padding: 0;\">\n",
       "  <li><b>Workers: </b>1</li>\n",
       "  <li><b>Cores: </b>12</li>\n",
       "  <li><b>Memory: </b>31.27 GiB</li>\n",
       "</ul>\n",
       "</td>\n",
       "</tr>\n",
       "</table>"
      ],
      "text/plain": [
       "<Client: 'tcp://172.20.0.4:8786' processes=1 threads=12, memory=31.27 GiB>"
      ]
     },
     "execution_count": 2,
     "metadata": {},
     "output_type": "execute_result"
    }
   ],
   "source": [
    "client = await Client(asynchronous=True)\n",
    "client"
   ]
  },
  {
   "cell_type": "code",
   "execution_count": 8,
   "id": "hearing-passing",
   "metadata": {},
   "outputs": [],
   "source": [
    "def inc(x):\n",
    "    import docker\n",
    "    import foo\n",
    "    print(foo.__file__)\n",
    "    foo.doit()\n",
    "    return x+1\n",
    "\n",
    "async def a_inc(x):\n",
    "    import asyncio\n",
    "    await asyncio.sleep(1)\n",
    "    return x+1"
   ]
  },
  {
   "cell_type": "code",
   "execution_count": 26,
   "id": "canadian-green",
   "metadata": {},
   "outputs": [
    {
     "data": {
      "text/html": [
       "<b>Future: inc</b> <font style=\"color: var(--jp-ui-font-color2, gray)\">status: </font><font style=\"color: var(--jp-ui-font-color0, black)\">finished</font>, <font style=\"color: var(--jp-ui-font-color2, gray)\">type: </font>builtins.int, <font style=\"color: var(--jp-ui-font-color2, gray)\">key: </font>inc-8bf9d634142743633bae3ee60ce79c0c"
      ],
      "text/plain": [
       "<Future: finished, type: builtins.int, key: inc-8bf9d634142743633bae3ee60ce79c0c>"
      ]
     },
     "execution_count": 26,
     "metadata": {},
     "output_type": "execute_result"
    }
   ],
   "source": [
    "future = client.submit(inc, 10)\n",
    "future"
   ]
  },
  {
   "cell_type": "code",
   "execution_count": 10,
   "id": "retired-force",
   "metadata": {},
   "outputs": [
    {
     "data": {
      "text/plain": [
       "11"
      ]
     },
     "execution_count": 10,
     "metadata": {},
     "output_type": "execute_result"
    }
   ],
   "source": [
    "await future"
   ]
  },
  {
   "cell_type": "code",
   "execution_count": 19,
   "id": "practical-mainland",
   "metadata": {},
   "outputs": [
    {
     "data": {
      "text/html": [
       "<b>Future: inc</b> <font style=\"color: var(--jp-ui-font-color2, gray)\">status: </font><font style=\"color: var(--jp-ui-font-color0, black)\">finished</font>, <font style=\"color: var(--jp-ui-font-color2, gray)\">type: </font>builtins.int, <font style=\"color: var(--jp-ui-font-color2, gray)\">key: </font>inc-8bf9d634142743633bae3ee60ce79c0c"
      ],
      "text/plain": [
       "<Future: finished, type: builtins.int, key: inc-8bf9d634142743633bae3ee60ce79c0c>"
      ]
     },
     "execution_count": 19,
     "metadata": {},
     "output_type": "execute_result"
    }
   ],
   "source": [
    "future"
   ]
  },
  {
   "cell_type": "code",
   "execution_count": null,
   "id": "posted-wales",
   "metadata": {},
   "outputs": [],
   "source": [
    "await future.result()"
   ]
  },
  {
   "cell_type": "code",
   "execution_count": 25,
   "id": "removed-assessment",
   "metadata": {},
   "outputs": [],
   "source": [
    "from dask.distributed import progress"
   ]
  },
  {
   "cell_type": "code",
   "execution_count": 27,
   "id": "measured-hamburg",
   "metadata": {},
   "outputs": [
    {
     "data": {
      "application/vnd.jupyter.widget-view+json": {
       "model_id": "ed35cefc134b4d7d82e0fa3be81e1c4c",
       "version_major": 2,
       "version_minor": 0
      },
      "text/plain": [
       "VBox()"
      ]
     },
     "metadata": {},
     "output_type": "display_data"
    }
   ],
   "source": [
    "progress(future)"
   ]
  },
  {
   "cell_type": "code",
   "execution_count": 28,
   "id": "official-samba",
   "metadata": {},
   "outputs": [
    {
     "data": {
      "text/plain": [
       "'tcp://scheduler:8786'"
      ]
     },
     "execution_count": 28,
     "metadata": {},
     "output_type": "execute_result"
    }
   ],
   "source": [
    "client.scheduler.address"
   ]
  },
  {
   "cell_type": "code",
   "execution_count": null,
   "id": "settled-president",
   "metadata": {},
   "outputs": [],
   "source": []
  }
 ],
 "metadata": {
  "kernelspec": {
   "display_name": "Python 3",
   "language": "python",
   "name": "python3"
  },
  "language_info": {
   "codemirror_mode": {
    "name": "ipython",
    "version": 3
   },
   "file_extension": ".py",
   "mimetype": "text/x-python",
   "name": "python",
   "nbconvert_exporter": "python",
   "pygments_lexer": "ipython3",
   "version": "3.8.6"
  }
 },
 "nbformat": 4,
 "nbformat_minor": 5
}
