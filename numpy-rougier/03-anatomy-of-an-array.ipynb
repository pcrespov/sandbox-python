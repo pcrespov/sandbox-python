{
 "metadata": {
  "language_info": {
   "codemirror_mode": {
    "name": "ipython",
    "version": 3
   },
   "file_extension": ".py",
   "mimetype": "text/x-python",
   "name": "python",
   "nbconvert_exporter": "python",
   "pygments_lexer": "ipython3",
   "version": "3.7.6-final"
  },
  "orig_nbformat": 2,
  "kernelspec": {
   "name": "python3",
   "display_name": "Python 3",
   "language": "python"
  }
 },
 "nbformat": 4,
 "nbformat_minor": 2,
 "cells": [
  {
   "cell_type": "code",
   "execution_count": null,
   "metadata": {},
   "outputs": [],
   "source": [
    "import numpy as np"
   ]
  },
  {
   "cell_type": "code",
   "execution_count": null,
   "metadata": {},
   "outputs": [],
   "source": [
    "Z = np.arange(9).reshape(3,3).astype(np.int16)"
   ]
  },
  {
   "cell_type": "code",
   "execution_count": null,
   "metadata": {},
   "outputs": [],
   "source": [
    "print(\"#bytes    :\", Z.itemsize)\n",
    "print(\"shape     :\", Z.shape)\n",
    "print(\"dimensions:\", Z.ndim)\n",
    "print(\"type.     :\", Z.dtype)"
   ]
  },
  {
   "cell_type": "code",
   "execution_count": null,
   "metadata": {},
   "outputs": [],
   "source": [
    "np.arange(9).reshape(3,3).dtype"
   ]
  },
  {
   "source": [
    "the strides of the array that define the **number of bytes to step in each dimension** when traversing the array"
   ],
   "cell_type": "markdown",
   "metadata": {}
  },
  {
   "cell_type": "code",
   "execution_count": null,
   "metadata": {},
   "outputs": [],
   "source": [
    "assert Z.strides == (Z.shape[1]*Z.itemsize, Z.itemsize)\n",
    "print(\"itemsize :\", Z.itemsize, \"bytes\")\n",
    "print(\"strides  :\", Z.strides, \"bytes\")"
   ]
  },
  {
   "cell_type": "code",
   "execution_count": null,
   "metadata": {},
   "outputs": [],
   "source": [
    "Z"
   ]
  },
  {
   "cell_type": "code",
   "execution_count": null,
   "metadata": {},
   "outputs": [],
   "source": [
    "index = 1,1\n",
    "Z[index]"
   ]
  },
  {
   "cell_type": "code",
   "execution_count": null,
   "metadata": {},
   "outputs": [],
   "source": [
    "Z[index].tobytes()"
   ]
  },
  {
   "cell_type": "code",
   "execution_count": null,
   "metadata": {},
   "outputs": [],
   "source": [
    "offset = 0\n",
    "for d in range(Z.ndim):\n",
    "    offset += Z.strides[d]*index[d] \n",
    "\n",
    "print(\"bytes offset\", offset)\n",
    "print(\"index offset\", offset//Z.itemsize)\n",
    "print(\"value:\")\n",
    "print(Z.tobytes()[offset: offset+Z.itemsize])\n",
    "print(Z[index])\n",
    "print(Z.flatten()[offset//Z.itemsize])"
   ]
  },
  {
   "source": [
    "## Views and Copies"
   ],
   "cell_type": "markdown",
   "metadata": {}
  },
  {
   "cell_type": "code",
   "execution_count": null,
   "metadata": {},
   "outputs": [],
   "source": [
    "Z = np.zeros(9)"
   ]
  },
  {
   "cell_type": "code",
   "execution_count": null,
   "metadata": {},
   "outputs": [],
   "source": [
    "Z1= Z[:3]\n",
    "Z2=Z[[0,1,2]]\n",
    "index = [0,1,2]\n",
    "Z3 = Z[index]"
   ]
  },
  {
   "cell_type": "code",
   "execution_count": null,
   "metadata": {},
   "outputs": [],
   "source": [
    "print(Z1.base is Z)\n",
    "print(Z2.base in Z)\n",
    "print(Z3.base is Z)\n",
    "print(Z[index].base is Z)"
   ]
  },
  {
   "cell_type": "code",
   "execution_count": null,
   "metadata": {},
   "outputs": [],
   "source": [
    "Z[index] = 1\n",
    "print(Z)"
   ]
  },
  {
   "cell_type": "code",
   "execution_count": null,
   "metadata": {},
   "outputs": [],
   "source": [
    "print(Z1)\n",
    "print(Z2)\n",
    "print(Z3)"
   ]
  },
  {
   "cell_type": "code",
   "execution_count": null,
   "metadata": {},
   "outputs": [],
   "source": [
    "Z = np.random.uniform(0,1,(5,5))\n",
    "Z[:3, :].base is Z"
   ]
  },
  {
   "cell_type": "code",
   "execution_count": null,
   "metadata": {},
   "outputs": [],
   "source": [
    "print(Z.ravel().base is Z)\n",
    "print(Z.flatten().base is Z)"
   ]
  },
  {
   "cell_type": "code",
   "execution_count": null,
   "metadata": {},
   "outputs": [],
   "source": [
    "Z.base is None"
   ]
  },
  {
   "source": [
    "## Temporary copies"
   ],
   "cell_type": "markdown",
   "metadata": {}
  },
  {
   "cell_type": "code",
   "execution_count": null,
   "metadata": {},
   "outputs": [],
   "source": [
    "from timeit import timeit\n",
    "import numpy as np"
   ]
  },
  {
   "cell_type": "code",
   "execution_count": null,
   "metadata": {},
   "outputs": [],
   "source": [
    "X = np.ones(1000000000, dtype=np.int)\n",
    "Y = np.ones(1000000000, dtype=np.int)"
   ]
  },
  {
   "cell_type": "code",
   "execution_count": null,
   "metadata": {},
   "outputs": [],
   "source": []
  },
  {
   "source": [
    "### Conclusion Exos"
   ],
   "cell_type": "markdown",
   "metadata": {}
  },
  {
   "cell_type": "code",
   "execution_count": 2,
   "metadata": {},
   "outputs": [],
   "source": [
    "import numpy as np\n",
    "Z1 = np.arange(10)\n",
    "Z2 = Z1[1:-1:2]"
   ]
  },
  {
   "cell_type": "code",
   "execution_count": 3,
   "metadata": {},
   "outputs": [
    {
     "output_type": "stream",
     "name": "stdout",
     "text": [
      "[0 1 2 3 4 5 6 7 8 9]\n[1 3 5 7]\n"
     ]
    }
   ],
   "source": [
    "print(Z1)\n",
    "print(Z2)"
   ]
  },
  {
   "cell_type": "code",
   "execution_count": 4,
   "metadata": {},
   "outputs": [
    {
     "output_type": "execute_result",
     "data": {
      "text/plain": [
       "True"
      ]
     },
     "metadata": {},
     "execution_count": 4
    }
   ],
   "source": [
    "Z2.base is Z1"
   ]
  },
  {
   "source": [
    "Therefore ``Z2`` can be expressed as ``Z1[start:stop:step]``"
   ],
   "cell_type": "markdown",
   "metadata": {}
  },
  {
   "cell_type": "code",
   "execution_count": 7,
   "metadata": {},
   "outputs": [
    {
     "output_type": "stream",
     "name": "stdout",
     "text": [
      "(8,)\n(16,)\n(8,)\n"
     ]
    }
   ],
   "source": [
    "print(Z1.strides)\n",
    "print(Z2.strides) # notice that this is double because Z2.base is Z1\n",
    "print(np.array([1,3,5,7]).strides)"
   ]
  },
  {
   "cell_type": "code",
   "execution_count": 9,
   "metadata": {},
   "outputs": [
    {
     "output_type": "stream",
     "name": "stdout",
     "text": [
      "8 int64\n8 int64\n"
     ]
    }
   ],
   "source": [
    "print(Z1.itemsize, Z1.dtype)\n",
    "print(Z2.itemsize, Z2.dtype)"
   ]
  },
  {
   "cell_type": "code",
   "execution_count": 31,
   "metadata": {},
   "outputs": [],
   "source": [
    "offset_start = np.byte_bounds(Z2)[0] - np.byte_bounds(Z1)[0] # bytes\n",
    "offset_stop = np.byte_bounds(Z2)[1] - np.byte_bounds(Z1)[1] # bytes\n",
    "\n",
    "start,stop = offset_start//Z1.itemsize, offset_stop//Z1.itemsize\n",
    "step = Z2.strides[0] // Z1.strides[0] "
   ]
  },
  {
   "cell_type": "code",
   "execution_count": 32,
   "metadata": {},
   "outputs": [
    {
     "output_type": "stream",
     "name": "stdout",
     "text": [
      "8 -16\n1 8\n2\n"
     ]
    }
   ],
   "source": [
    "print(offset_start, offset_stop)\n",
    "print(offset_start//Z1.itemsize, Z1.size + offset_stop//Z1.itemsize)\n",
    "print(step)"
   ]
  },
  {
   "cell_type": "code",
   "execution_count": 39,
   "metadata": {},
   "outputs": [
    {
     "output_type": "execute_result",
     "data": {
      "text/plain": [
       "array([ True,  True,  True,  True])"
      ]
     },
     "metadata": {},
     "execution_count": 39
    }
   ],
   "source": [
    "Z1[start:stop:step] == Z2"
   ]
  },
  {
   "cell_type": "code",
   "execution_count": 40,
   "metadata": {},
   "outputs": [
    {
     "output_type": "execute_result",
     "data": {
      "text/plain": [
       "True"
      ]
     },
     "metadata": {},
     "execution_count": 40
    }
   ],
   "source": [
    "np.allclose(Z1[start:stop:step], Z2)"
   ]
  },
  {
   "source": [
    "### Exo\n",
    "\n",
    "- negative steps\n",
    "- multi-dimensional arrays"
   ],
   "cell_type": "markdown",
   "metadata": {}
  },
  {
   "cell_type": "code",
   "execution_count": 48,
   "metadata": {},
   "outputs": [],
   "source": [
    "import numpy as np\n",
    "Z1 = np.arange(10)\n",
    "Z2 = Z1[5::-2]"
   ]
  },
  {
   "cell_type": "code",
   "execution_count": 49,
   "metadata": {},
   "outputs": [
    {
     "output_type": "stream",
     "name": "stdout",
     "text": [
      "[0 1 2 3 4 5 6 7 8 9]\n[5 3 1]\n"
     ]
    }
   ],
   "source": [
    "print(Z1)\n",
    "print(Z2)"
   ]
  },
  {
   "cell_type": "code",
   "execution_count": 60,
   "metadata": {},
   "outputs": [
    {
     "output_type": "stream",
     "name": "stdout",
     "text": [
      "True\n(-16,)\n8 int64\n"
     ]
    }
   ],
   "source": [
    "print(Z2.base is Z1)\n",
    "print(Z2.strides)\n",
    "print(Z2.itemsize, Z2.dtype)"
   ]
  },
  {
   "cell_type": "code",
   "execution_count": 55,
   "metadata": {},
   "outputs": [
    {
     "output_type": "stream",
     "name": "stdout",
     "text": [
      "True\n(-16,)\n(140392102629688, 140392102629728) 40\n"
     ]
    }
   ],
   "source": [
    "bb_z1 = np.byte_bounds(Z1)\n",
    "bb_z2 = np.byte_bounds(Z2)\n",
    "\n",
    "print(bb_z2, bb_z2[1]-bb_z2[0]) # bounds does not account for the order, just locates bounds"
   ]
  },
  {
   "cell_type": "code",
   "execution_count": 51,
   "metadata": {},
   "outputs": [
    {
     "output_type": "execute_result",
     "data": {
      "text/plain": [
       "(-16,)"
      ]
     },
     "metadata": {},
     "execution_count": 51
    }
   ],
   "source": [
    "Z2.strides"
   ]
  },
  {
   "cell_type": "code",
   "execution_count": 76,
   "metadata": {},
   "outputs": [
    {
     "output_type": "stream",
     "name": "stdout",
     "text": [
      "-5 0 -2\n"
     ]
    }
   ],
   "source": [
    "stop = (bb_z2[0] - bb_z1[0])//Z1.itemsize -1\n",
    "start = (bb_z2[1] - bb_z1[1])//Z1.itemsize -1\n",
    "step =  Z2.strides[0]//Z1.strides[0]\n",
    "print(start, stop, step)\n",
    "index = slice(start, stop, step)"
   ]
  },
  {
   "cell_type": "code",
   "execution_count": 77,
   "metadata": {},
   "outputs": [
    {
     "output_type": "execute_result",
     "data": {
      "text/plain": [
       "array([5, 3, 1])"
      ]
     },
     "metadata": {},
     "execution_count": 77
    }
   ],
   "source": [
    "Z1[index]"
   ]
  },
  {
   "cell_type": "code",
   "execution_count": 69,
   "metadata": {},
   "outputs": [
    {
     "output_type": "execute_result",
     "data": {
      "text/plain": [
       "1"
      ]
     },
     "metadata": {},
     "execution_count": 69
    }
   ],
   "source": [
    "Z2.ndim"
   ]
  },
  {
   "cell_type": "code",
   "execution_count": null,
   "metadata": {},
   "outputs": [],
   "source": [
    "def find_index(base:np.ndarray, view: np.ndarray):\n",
    "\n",
    "    assert view.base is base\n",
    "\n",
    "    # bounding box in bytes (global)\n",
    "    view_bottom, biew_top = np.byte_bounds(view)\n",
    "    base_bottom, base_top = np.byte_bounds(base)\n",
    "    assert base_bottom <= view_bottom\n",
    "    assert view_top <= base_top\n",
    "\n",
    "    stop = (bb_z2[0] - bb_z1[0])//Z1.itemsize -1\n",
    "    start = (bb_z2[1] - bb_z1[1])//Z1.itemsize -1\n",
    "\n",
    "    # strides are in bytes\n",
    "    steps = [ view.strides[n] // base.strides[n] for n in range(base.ndim) ]\n",
    "\n",
    "    assert all(step!=0)\n",
    "\n",
    "    if step>0:\n"
   ]
  },
  {
   "cell_type": "code",
   "execution_count": 78,
   "metadata": {},
   "outputs": [
    {
     "output_type": "execute_result",
     "data": {
      "text/plain": [
       "array([[ 0,  1,  2,  3,  4,  5,  6,  7],\n",
       "       [ 8,  9, 10, 11, 12, 13, 14, 15],\n",
       "       [16, 17, 18, 19, 20, 21, 22, 23],\n",
       "       [24, 25, 26, 27, 28, 29, 30, 31],\n",
       "       [32, 33, 34, 35, 36, 37, 38, 39],\n",
       "       [40, 41, 42, 43, 44, 45, 46, 47],\n",
       "       [48, 49, 50, 51, 52, 53, 54, 55],\n",
       "       [56, 57, 58, 59, 60, 61, 62, 63]])"
      ]
     },
     "metadata": {},
     "execution_count": 78
    }
   ],
   "source": [
    "base = np.arange(8*8).reshape(8,8)\n",
    "base"
   ]
  },
  {
   "cell_type": "code",
   "execution_count": 79,
   "metadata": {},
   "outputs": [
    {
     "output_type": "execute_result",
     "data": {
      "text/plain": [
       "array([[13, 11,  9],\n",
       "       [29, 27, 25],\n",
       "       [45, 43, 41]])"
      ]
     },
     "metadata": {},
     "execution_count": 79
    }
   ],
   "source": [
    "view = base[1:-1:2, 5::-2]\n",
    "view"
   ]
  },
  {
   "cell_type": "code",
   "execution_count": 72,
   "metadata": {},
   "outputs": [
    {
     "output_type": "execute_result",
     "data": {
      "text/plain": [
       "(64, 8)"
      ]
     },
     "metadata": {},
     "execution_count": 72
    }
   ],
   "source": [
    "base.strides"
   ]
  },
  {
   "cell_type": "code",
   "execution_count": 80,
   "metadata": {},
   "outputs": [
    {
     "output_type": "execute_result",
     "data": {
      "text/plain": [
       "(128, -16)"
      ]
     },
     "metadata": {},
     "execution_count": 80
    }
   ],
   "source": [
    "view.strides"
   ]
  },
  {
   "cell_type": "code",
   "execution_count": 81,
   "metadata": {},
   "outputs": [
    {
     "output_type": "execute_result",
     "data": {
      "text/plain": [
       "[2, -2]"
      ]
     },
     "metadata": {},
     "execution_count": 81
    }
   ],
   "source": [
    "[view.strides[n] // base.strides[n] for n in range(base.ndim) ]"
   ]
  },
  {
   "cell_type": "code",
   "execution_count": null,
   "metadata": {},
   "outputs": [],
   "source": []
  }
 ]
}